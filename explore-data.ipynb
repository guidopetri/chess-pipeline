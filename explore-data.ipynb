{
 "cells": [
  {
   "cell_type": "code",
   "execution_count": 1,
   "metadata": {},
   "outputs": [],
   "source": [
    "import psycopg2\n",
    "import pandas as pd\n",
    "pd.options.display.max_columns = 999"
   ]
  },
  {
   "cell_type": "code",
   "execution_count": 6,
   "metadata": {},
   "outputs": [],
   "source": [
    "user = 'read_user'\n",
    "password = ''\n",
    "ip = '192.168.1.106'\n",
    "port = '5432'\n",
    "dbname = 'chess_db'"
   ]
  },
  {
   "cell_type": "code",
   "execution_count": 11,
   "metadata": {},
   "outputs": [],
   "source": [
    "db_connection_string = 'postgresql://{}:{}@{}:{}/{}'\n",
    "\n",
    "with psycopg2.connect(db_connection_string.format(user,\n",
    "                                                  password,\n",
    "                                                  ip,\n",
    "                                                  port,\n",
    "                                                  dbname)) as con:\n",
    "    cursor = con.cursor('chess_analysis')\n",
    "\n",
    "    sql = \"\"\"SELECT * from chess_games;\"\"\"\n",
    "    cursor.execute(sql)\n",
    "    colnames = [desc.name for desc in cursor.description]\n",
    "    results = cursor.fetchall()"
   ]
  },
  {
   "cell_type": "code",
   "execution_count": 19,
   "metadata": {},
   "outputs": [
    {
     "data": {
      "text/plain": [
       "224"
      ]
     },
     "execution_count": 19,
     "metadata": {},
     "output_type": "execute_result"
    }
   ],
   "source": [
    "import sys\n",
    "sys.getsizeof(cursor)"
   ]
  },
  {
   "cell_type": "code",
   "execution_count": 12,
   "metadata": {},
   "outputs": [],
   "source": [
    "df = pd.DataFrame.from_records(results, columns=colnames)"
   ]
  },
  {
   "cell_type": "code",
   "execution_count": 13,
   "metadata": {},
   "outputs": [
    {
     "data": {
      "text/html": [
       "<div>\n",
       "<style scoped>\n",
       "    .dataframe tbody tr th:only-of-type {\n",
       "        vertical-align: middle;\n",
       "    }\n",
       "\n",
       "    .dataframe tbody tr th {\n",
       "        vertical-align: top;\n",
       "    }\n",
       "\n",
       "    .dataframe thead th {\n",
       "        text-align: right;\n",
       "    }\n",
       "</style>\n",
       "<table border=\"1\" class=\"dataframe\">\n",
       "  <thead>\n",
       "    <tr style=\"text-align: right;\">\n",
       "      <th></th>\n",
       "      <th>id</th>\n",
       "      <th>event_type</th>\n",
       "      <th>result</th>\n",
       "      <th>round</th>\n",
       "      <th>game_link</th>\n",
       "      <th>termination</th>\n",
       "      <th>chess_variant</th>\n",
       "      <th>black_elo_tentative</th>\n",
       "      <th>white_elo_tentative</th>\n",
       "      <th>player</th>\n",
       "      <th>opponent</th>\n",
       "      <th>player_color</th>\n",
       "      <th>opponent_color</th>\n",
       "      <th>player_rating_diff</th>\n",
       "      <th>opponent_rating_diff</th>\n",
       "      <th>player_result</th>\n",
       "      <th>opponent_result</th>\n",
       "      <th>time_control_category</th>\n",
       "      <th>datetime_played</th>\n",
       "      <th>starting_time</th>\n",
       "      <th>increment</th>\n",
       "      <th>in_arena</th>\n",
       "      <th>rated_casual</th>\n",
       "      <th>player_elo</th>\n",
       "      <th>opponent_elo</th>\n",
       "      <th>queen_exchange</th>\n",
       "      <th>player_castling_side</th>\n",
       "      <th>opponent_castling_side</th>\n",
       "      <th>lichess_opening</th>\n",
       "      <th>opening_played</th>\n",
       "    </tr>\n",
       "  </thead>\n",
       "  <tbody>\n",
       "    <tr>\n",
       "      <td>0</td>\n",
       "      <td>3</td>\n",
       "      <td>Rated Blitz game</td>\n",
       "      <td>1-0</td>\n",
       "      <td>-</td>\n",
       "      <td>https://lichess.org/ZhmhCY7m</td>\n",
       "      <td>Time forfeit</td>\n",
       "      <td>Standard</td>\n",
       "      <td>Unknown</td>\n",
       "      <td>Unknown</td>\n",
       "      <td>Grahtbo</td>\n",
       "      <td>moreman28</td>\n",
       "      <td>white</td>\n",
       "      <td>black</td>\n",
       "      <td>11.0</td>\n",
       "      <td>-11.0</td>\n",
       "      <td>Win</td>\n",
       "      <td>Loss</td>\n",
       "      <td>blitz</td>\n",
       "      <td>2019-07-25 15:22:54</td>\n",
       "      <td>180</td>\n",
       "      <td>0</td>\n",
       "      <td>Not in arena</td>\n",
       "      <td>Rated</td>\n",
       "      <td>1460.0</td>\n",
       "      <td>1495.0</td>\n",
       "      <td>Queen exchange</td>\n",
       "      <td>kingside</td>\n",
       "      <td>No castling</td>\n",
       "      <td>St. George Defense</td>\n",
       "      <td>B00</td>\n",
       "    </tr>\n",
       "    <tr>\n",
       "      <td>1</td>\n",
       "      <td>4</td>\n",
       "      <td>Rated Blitz game</td>\n",
       "      <td>0-1</td>\n",
       "      <td>-</td>\n",
       "      <td>https://lichess.org/7SX80GTy</td>\n",
       "      <td>Normal</td>\n",
       "      <td>Standard</td>\n",
       "      <td>Unknown</td>\n",
       "      <td>Unknown</td>\n",
       "      <td>Grahtbo</td>\n",
       "      <td>krarr</td>\n",
       "      <td>black</td>\n",
       "      <td>white</td>\n",
       "      <td>11.0</td>\n",
       "      <td>-11.0</td>\n",
       "      <td>Win</td>\n",
       "      <td>Loss</td>\n",
       "      <td>blitz</td>\n",
       "      <td>2019-07-25 15:08:41</td>\n",
       "      <td>180</td>\n",
       "      <td>0</td>\n",
       "      <td>Not in arena</td>\n",
       "      <td>Rated</td>\n",
       "      <td>1449.0</td>\n",
       "      <td>1462.0</td>\n",
       "      <td>No queen exchange</td>\n",
       "      <td>kingside</td>\n",
       "      <td>kingside</td>\n",
       "      <td>Hungarian Opening</td>\n",
       "      <td>A00</td>\n",
       "    </tr>\n",
       "    <tr>\n",
       "      <td>2</td>\n",
       "      <td>5</td>\n",
       "      <td>Rated Blitz game</td>\n",
       "      <td>1-0</td>\n",
       "      <td>-</td>\n",
       "      <td>https://lichess.org/bIyC1c5J</td>\n",
       "      <td>Normal</td>\n",
       "      <td>Standard</td>\n",
       "      <td>Unknown</td>\n",
       "      <td>Unknown</td>\n",
       "      <td>Grahtbo</td>\n",
       "      <td>cefh</td>\n",
       "      <td>white</td>\n",
       "      <td>black</td>\n",
       "      <td>10.0</td>\n",
       "      <td>-10.0</td>\n",
       "      <td>Win</td>\n",
       "      <td>Loss</td>\n",
       "      <td>blitz</td>\n",
       "      <td>2019-07-25 15:07:27</td>\n",
       "      <td>180</td>\n",
       "      <td>0</td>\n",
       "      <td>Not in arena</td>\n",
       "      <td>Rated</td>\n",
       "      <td>1439.0</td>\n",
       "      <td>1444.0</td>\n",
       "      <td>No queen exchange</td>\n",
       "      <td>No castling</td>\n",
       "      <td>No castling</td>\n",
       "      <td>Latvian Gambit</td>\n",
       "      <td>C40</td>\n",
       "    </tr>\n",
       "    <tr>\n",
       "      <td>3</td>\n",
       "      <td>6</td>\n",
       "      <td>Rated Blitz game</td>\n",
       "      <td>1/2-1/2</td>\n",
       "      <td>-</td>\n",
       "      <td>https://lichess.org/cZXuLZ0B</td>\n",
       "      <td>Normal</td>\n",
       "      <td>Standard</td>\n",
       "      <td>Unknown</td>\n",
       "      <td>Unknown</td>\n",
       "      <td>Grahtbo</td>\n",
       "      <td>krds</td>\n",
       "      <td>white</td>\n",
       "      <td>black</td>\n",
       "      <td>0.0</td>\n",
       "      <td>0.0</td>\n",
       "      <td>Draw</td>\n",
       "      <td>Draw</td>\n",
       "      <td>blitz</td>\n",
       "      <td>2019-07-25 14:59:00</td>\n",
       "      <td>300</td>\n",
       "      <td>0</td>\n",
       "      <td>Not in arena</td>\n",
       "      <td>Rated</td>\n",
       "      <td>1439.0</td>\n",
       "      <td>1442.0</td>\n",
       "      <td>Queen exchange</td>\n",
       "      <td>queenside</td>\n",
       "      <td>No castling</td>\n",
       "      <td>Four Knights Game</td>\n",
       "      <td>C46</td>\n",
       "    </tr>\n",
       "    <tr>\n",
       "      <td>4</td>\n",
       "      <td>7</td>\n",
       "      <td>Rated Blitz game</td>\n",
       "      <td>0-1</td>\n",
       "      <td>-</td>\n",
       "      <td>https://lichess.org/oRuOpiWj</td>\n",
       "      <td>Normal</td>\n",
       "      <td>Standard</td>\n",
       "      <td>Unknown</td>\n",
       "      <td>Unknown</td>\n",
       "      <td>Grahtbo</td>\n",
       "      <td>hugotrasher77-7</td>\n",
       "      <td>black</td>\n",
       "      <td>white</td>\n",
       "      <td>9.0</td>\n",
       "      <td>-9.0</td>\n",
       "      <td>Win</td>\n",
       "      <td>Loss</td>\n",
       "      <td>blitz</td>\n",
       "      <td>2019-07-25 14:51:48</td>\n",
       "      <td>180</td>\n",
       "      <td>0</td>\n",
       "      <td>Not in arena</td>\n",
       "      <td>Rated</td>\n",
       "      <td>1430.0</td>\n",
       "      <td>1405.0</td>\n",
       "      <td>No queen exchange</td>\n",
       "      <td>kingside</td>\n",
       "      <td>kingside</td>\n",
       "      <td>Latvian Gambit Accepted, Foltys Variation</td>\n",
       "      <td>C40</td>\n",
       "    </tr>\n",
       "  </tbody>\n",
       "</table>\n",
       "</div>"
      ],
      "text/plain": [
       "   id        event_type   result round                     game_link  \\\n",
       "0   3  Rated Blitz game      1-0     -  https://lichess.org/ZhmhCY7m   \n",
       "1   4  Rated Blitz game      0-1     -  https://lichess.org/7SX80GTy   \n",
       "2   5  Rated Blitz game      1-0     -  https://lichess.org/bIyC1c5J   \n",
       "3   6  Rated Blitz game  1/2-1/2     -  https://lichess.org/cZXuLZ0B   \n",
       "4   7  Rated Blitz game      0-1     -  https://lichess.org/oRuOpiWj   \n",
       "\n",
       "    termination chess_variant black_elo_tentative white_elo_tentative  \\\n",
       "0  Time forfeit      Standard             Unknown             Unknown   \n",
       "1        Normal      Standard             Unknown             Unknown   \n",
       "2        Normal      Standard             Unknown             Unknown   \n",
       "3        Normal      Standard             Unknown             Unknown   \n",
       "4        Normal      Standard             Unknown             Unknown   \n",
       "\n",
       "    player         opponent player_color opponent_color  player_rating_diff  \\\n",
       "0  Grahtbo        moreman28        white          black                11.0   \n",
       "1  Grahtbo            krarr        black          white                11.0   \n",
       "2  Grahtbo             cefh        white          black                10.0   \n",
       "3  Grahtbo             krds        white          black                 0.0   \n",
       "4  Grahtbo  hugotrasher77-7        black          white                 9.0   \n",
       "\n",
       "   opponent_rating_diff player_result opponent_result time_control_category  \\\n",
       "0                 -11.0           Win            Loss                 blitz   \n",
       "1                 -11.0           Win            Loss                 blitz   \n",
       "2                 -10.0           Win            Loss                 blitz   \n",
       "3                   0.0          Draw            Draw                 blitz   \n",
       "4                  -9.0           Win            Loss                 blitz   \n",
       "\n",
       "      datetime_played  starting_time  increment      in_arena rated_casual  \\\n",
       "0 2019-07-25 15:22:54            180          0  Not in arena        Rated   \n",
       "1 2019-07-25 15:08:41            180          0  Not in arena        Rated   \n",
       "2 2019-07-25 15:07:27            180          0  Not in arena        Rated   \n",
       "3 2019-07-25 14:59:00            300          0  Not in arena        Rated   \n",
       "4 2019-07-25 14:51:48            180          0  Not in arena        Rated   \n",
       "\n",
       "   player_elo  opponent_elo     queen_exchange player_castling_side  \\\n",
       "0      1460.0        1495.0     Queen exchange             kingside   \n",
       "1      1449.0        1462.0  No queen exchange             kingside   \n",
       "2      1439.0        1444.0  No queen exchange          No castling   \n",
       "3      1439.0        1442.0     Queen exchange            queenside   \n",
       "4      1430.0        1405.0  No queen exchange             kingside   \n",
       "\n",
       "  opponent_castling_side                            lichess_opening  \\\n",
       "0            No castling                         St. George Defense   \n",
       "1               kingside                          Hungarian Opening   \n",
       "2            No castling                             Latvian Gambit   \n",
       "3            No castling                          Four Knights Game   \n",
       "4               kingside  Latvian Gambit Accepted, Foltys Variation   \n",
       "\n",
       "  opening_played  \n",
       "0            B00  \n",
       "1            A00  \n",
       "2            C40  \n",
       "3            C46  \n",
       "4            C40  "
      ]
     },
     "execution_count": 13,
     "metadata": {},
     "output_type": "execute_result"
    }
   ],
   "source": [
    "df.head()"
   ]
  },
  {
   "cell_type": "code",
   "execution_count": 14,
   "metadata": {},
   "outputs": [
    {
     "data": {
      "text/plain": [
       "(13249, 30)"
      ]
     },
     "execution_count": 14,
     "metadata": {},
     "output_type": "execute_result"
    }
   ],
   "source": [
    "df.shape"
   ]
  },
  {
   "cell_type": "code",
   "execution_count": 122,
   "metadata": {},
   "outputs": [],
   "source": [
    "from sklearn.tree import DecisionTreeClassifier\n",
    "\n",
    "dtc = DecisionTreeClassifier(criterion='entropy', random_state=0, min_samples_leaf=10, min_samples_split=30, max_depth=5)"
   ]
  },
  {
   "cell_type": "code",
   "execution_count": 123,
   "metadata": {},
   "outputs": [],
   "source": [
    "from sklearn.preprocessing import LabelEncoder\n",
    "le = LabelEncoder()\n",
    "for col in df.columns:\n",
    "    df[col] = le.fit_transform(df[col])"
   ]
  },
  {
   "cell_type": "code",
   "execution_count": 124,
   "metadata": {},
   "outputs": [],
   "source": [
    "trim_df = df.drop(['result',\n",
    "                   'player_rating_diff',\n",
    "                   'opponent_rating_diff',\n",
    "                   'opponent_result',\n",
    "                   'game_link',\n",
    "                   'id',\n",
    "                   ],\n",
    "                  axis=1)"
   ]
  },
  {
   "cell_type": "code",
   "execution_count": 125,
   "metadata": {},
   "outputs": [],
   "source": [
    "trim_df['rating_diff'] = trim_df['player_elo'] - trim_df['opponent_elo']"
   ]
  },
  {
   "cell_type": "code",
   "execution_count": 126,
   "metadata": {},
   "outputs": [],
   "source": [
    "test_df = trim_df.sample(frac=0.2, random_state=0)\n",
    "train_df = trim_df.drop(test_df.index)"
   ]
  },
  {
   "cell_type": "code",
   "execution_count": 127,
   "metadata": {},
   "outputs": [
    {
     "data": {
      "text/plain": [
       "0.5627889423530522"
      ]
     },
     "execution_count": 127,
     "metadata": {},
     "output_type": "execute_result"
    }
   ],
   "source": [
    "dtc.fit(train_df.drop('player_result', axis=1), train_df['player_result'])\n",
    "dtc.score(train_df.drop('player_result', axis=1), train_df['player_result'])"
   ]
  },
  {
   "cell_type": "code",
   "execution_count": 128,
   "metadata": {},
   "outputs": [
    {
     "data": {
      "text/plain": [
       "0.5566037735849056"
      ]
     },
     "execution_count": 128,
     "metadata": {},
     "output_type": "execute_result"
    }
   ],
   "source": [
    "dtc.score(test_df.drop('player_result', axis=1), test_df['player_result'])"
   ]
  },
  {
   "cell_type": "code",
   "execution_count": 129,
   "metadata": {},
   "outputs": [
    {
     "data": {
      "image/png": "[encoded data removed]",
      "text/plain": [
       "<Figure size 432x288 with 1 Axes>"
      ]
     },
     "metadata": {},
     "output_type": "display_data"
    }
   ],
   "source": [
    "import matplotlib.pyplot as plt\n",
    "%matplotlib inline\n",
    "\n",
    "feature_importances = [x for x in zip(train_df.drop('player_result', axis=1).columns,\n",
    "                                      dtc.feature_importances_)]\n",
    "feature_importances.sort(key=lambda x: x[1])\n",
    "plt.bar(*zip(*feature_importances))\n",
    "plt.xticks(rotation='vertical')\n",
    "plt.show()"
   ]
  },
  {
   "cell_type": "code",
   "execution_count": 145,
   "metadata": {},
   "outputs": [],
   "source": [
    "import seaborn as sns\n",
    "from sklearn.model_selection import RandomizedSearchCV\n",
    "from sklearn.ensemble import RandomForestClassifier\n",
    "from scipy.stats import randint as sp_randint\n",
    "\n",
    "results = {}\n",
    "\n",
    "rfc = RandomForestClassifier(random_state=0, n_jobs=1)\n",
    "\n",
    "param_distributions = {'criterion': ['gini',\n",
    "                                     'entropy',\n",
    "                                    ],\n",
    "                       'min_samples_split': sp_randint(10, 150),\n",
    "                       'max_depth': sp_randint(2, 50),\n",
    "                       'n_estimators': sp_randint(10, 200),\n",
    "                       'min_samples_leaf': sp_randint(1, 300),\n",
    "                      }\n",
    "\n",
    "rcv = RandomizedSearchCV(estimator=rfc,\n",
    "                         param_distributions=param_distributions,\n",
    "                         n_jobs=10,\n",
    "                         cv=10,\n",
    "                         n_iter=200,\n",
    "                         random_state=0)"
   ]
  },
  {
   "cell_type": "code",
   "execution_count": 146,
   "metadata": {},
   "outputs": [
    {
     "data": {
      "text/plain": [
       "RandomizedSearchCV(cv=10, error_score='raise-deprecating',\n",
       "                   estimator=RandomForestClassifier(bootstrap=True,\n",
       "                                                    class_weight=None,\n",
       "                                                    criterion='gini',\n",
       "                                                    max_depth=None,\n",
       "                                                    max_features='auto',\n",
       "                                                    max_leaf_nodes=None,\n",
       "                                                    min_impurity_decrease=0.0,\n",
       "                                                    min_impurity_split=None,\n",
       "                                                    min_samples_leaf=1,\n",
       "                                                    min_samples_split=2,\n",
       "                                                    min_weight_fraction_leaf=0.0,\n",
       "                                                    n_estimators='warn',\n",
       "                                                    n_jobs=1, oob_scor...\n",
       "                                        'min_samples_leaf': <scipy.stats._distn_infrastructure.rv_frozen object at 0x0000023DDCDEEBA8>,\n",
       "                                        'min_samples_split': <scipy.stats._distn_infrastructure.rv_frozen object at 0x0000023DDD0C1C18>,\n",
       "                                        'n_estimators': <scipy.stats._distn_infrastructure.rv_frozen object at 0x0000023DDD869320>},\n",
       "                   pre_dispatch='2*n_jobs', random_state=0, refit=True,\n",
       "                   return_train_score=False, scoring=None, verbose=0)"
      ]
     },
     "execution_count": 146,
     "metadata": {},
     "output_type": "execute_result"
    }
   ],
   "source": [
    "rcv.fit(train_df.drop('player_result', axis=1), train_df['player_result'])"
   ]
  },
  {
   "cell_type": "code",
   "execution_count": 147,
   "metadata": {},
   "outputs": [],
   "source": [
    "best_rfc = rcv.best_estimator_"
   ]
  },
  {
   "cell_type": "code",
   "execution_count": 148,
   "metadata": {},
   "outputs": [
    {
     "data": {
      "text/plain": [
       "Index(['event_type', 'round', 'termination', 'chess_variant',\n",
       "       'black_elo_tentative', 'white_elo_tentative', 'player', 'opponent',\n",
       "       'player_color', 'opponent_color', 'player_result',\n",
       "       'time_control_category', 'datetime_played', 'starting_time',\n",
       "       'increment', 'in_arena', 'rated_casual', 'player_elo', 'opponent_elo',\n",
       "       'queen_exchange', 'player_castling_side', 'opponent_castling_side',\n",
       "       'lichess_opening', 'opening_played', 'rating_diff'],\n",
       "      dtype='object')"
      ]
     },
     "execution_count": 148,
     "metadata": {},
     "output_type": "execute_result"
    }
   ],
   "source": [
    "train_df.columns"
   ]
  },
  {
   "cell_type": "code",
   "execution_count": 149,
   "metadata": {},
   "outputs": [
    {
     "data": {
      "image/png": "[encoded data removed]",
      "text/plain": [
       "<Figure size 432x288 with 1 Axes>"
      ]
     },
     "metadata": {},
     "output_type": "display_data"
    }
   ],
   "source": [
    "import matplotlib.pyplot as plt\n",
    "%matplotlib inline\n",
    "\n",
    "feature_importances = [x for x in zip(train_df.drop('player_result', axis=1).columns,\n",
    "                                      best_rfc.feature_importances_)]\n",
    "feature_importances.sort(key=lambda x: x[1])\n",
    "plt.bar(*zip(*feature_importances))\n",
    "plt.xticks(rotation='vertical')\n",
    "plt.show()"
   ]
  },
  {
   "cell_type": "code",
   "execution_count": 150,
   "metadata": {},
   "outputs": [
    {
     "data": {
      "text/plain": [
       "0.5542032267195018"
      ]
     },
     "execution_count": 150,
     "metadata": {},
     "output_type": "execute_result"
    }
   ],
   "source": [
    "rcv.best_score_"
   ]
  },
  {
   "cell_type": "code",
   "execution_count": 151,
   "metadata": {},
   "outputs": [],
   "source": [
    "param_df = pd.DataFrame(rcv.cv_results_)\n",
    "\n",
    "for col in param_df.columns:\n",
    "    try:\n",
    "        param_df[col] = param_df[col].astype(float)\n",
    "    except:\n",
    "        pass"
   ]
  },
  {
   "cell_type": "code",
   "execution_count": 152,
   "metadata": {
    "scrolled": false
   },
   "outputs": [
    {
     "data": {
      "text/html": [
       "<div>\n",
       "<style scoped>\n",
       "    .dataframe tbody tr th:only-of-type {\n",
       "        vertical-align: middle;\n",
       "    }\n",
       "\n",
       "    .dataframe tbody tr th {\n",
       "        vertical-align: top;\n",
       "    }\n",
       "\n",
       "    .dataframe thead th {\n",
       "        text-align: right;\n",
       "    }\n",
       "</style>\n",
       "<table border=\"1\" class=\"dataframe\">\n",
       "  <thead>\n",
       "    <tr style=\"text-align: right;\">\n",
       "      <th></th>\n",
       "      <th>0</th>\n",
       "      <th>1</th>\n",
       "      <th>2</th>\n",
       "    </tr>\n",
       "  </thead>\n",
       "  <tbody>\n",
       "    <tr>\n",
       "      <td>mean_fit_time</td>\n",
       "      <td>1.00401</td>\n",
       "      <td>0.822128</td>\n",
       "      <td>0.46325</td>\n",
       "    </tr>\n",
       "    <tr>\n",
       "      <td>std_fit_time</td>\n",
       "      <td>0.0102907</td>\n",
       "      <td>0.00773165</td>\n",
       "      <td>0.00878154</td>\n",
       "    </tr>\n",
       "    <tr>\n",
       "      <td>mean_score_time</td>\n",
       "      <td>0.0288069</td>\n",
       "      <td>0.0197049</td>\n",
       "      <td>0.0143112</td>\n",
       "    </tr>\n",
       "    <tr>\n",
       "      <td>std_score_time</td>\n",
       "      <td>0.00744203</td>\n",
       "      <td>0.000781238</td>\n",
       "      <td>0.00313257</td>\n",
       "    </tr>\n",
       "    <tr>\n",
       "      <td>param_criterion</td>\n",
       "      <td>gini</td>\n",
       "      <td>entropy</td>\n",
       "      <td>gini</td>\n",
       "    </tr>\n",
       "    <tr>\n",
       "      <td>param_max_depth</td>\n",
       "      <td>49</td>\n",
       "      <td>21</td>\n",
       "      <td>26</td>\n",
       "    </tr>\n",
       "    <tr>\n",
       "      <td>param_min_samples_leaf</td>\n",
       "      <td>118</td>\n",
       "      <td>278</td>\n",
       "      <td>89</td>\n",
       "    </tr>\n",
       "    <tr>\n",
       "      <td>param_min_samples_split</td>\n",
       "      <td>77</td>\n",
       "      <td>46</td>\n",
       "      <td>68</td>\n",
       "    </tr>\n",
       "    <tr>\n",
       "      <td>param_n_estimators</td>\n",
       "      <td>113</td>\n",
       "      <td>97</td>\n",
       "      <td>49</td>\n",
       "    </tr>\n",
       "    <tr>\n",
       "      <td>params</td>\n",
       "      <td>{'criterion': 'gini', 'max_depth': 49, 'min_sa...</td>\n",
       "      <td>{'criterion': 'entropy', 'max_depth': 21, 'min...</td>\n",
       "      <td>{'criterion': 'gini', 'max_depth': 26, 'min_sa...</td>\n",
       "    </tr>\n",
       "    <tr>\n",
       "      <td>split0_test_score</td>\n",
       "      <td>0.570217</td>\n",
       "      <td>0.570217</td>\n",
       "      <td>0.558907</td>\n",
       "    </tr>\n",
       "    <tr>\n",
       "      <td>split1_test_score</td>\n",
       "      <td>0.568332</td>\n",
       "      <td>0.558907</td>\n",
       "      <td>0.588124</td>\n",
       "    </tr>\n",
       "    <tr>\n",
       "      <td>split2_test_score</td>\n",
       "      <td>0.557022</td>\n",
       "      <td>0.569274</td>\n",
       "      <td>0.563619</td>\n",
       "    </tr>\n",
       "    <tr>\n",
       "      <td>split3_test_score</td>\n",
       "      <td>0.513666</td>\n",
       "      <td>0.521206</td>\n",
       "      <td>0.497644</td>\n",
       "    </tr>\n",
       "    <tr>\n",
       "      <td>split4_test_score</td>\n",
       "      <td>0.513666</td>\n",
       "      <td>0.530631</td>\n",
       "      <td>0.522149</td>\n",
       "    </tr>\n",
       "    <tr>\n",
       "      <td>split5_test_score</td>\n",
       "      <td>0.585849</td>\n",
       "      <td>0.583019</td>\n",
       "      <td>0.579245</td>\n",
       "    </tr>\n",
       "    <tr>\n",
       "      <td>split6_test_score</td>\n",
       "      <td>0.574127</td>\n",
       "      <td>0.586402</td>\n",
       "      <td>0.579792</td>\n",
       "    </tr>\n",
       "    <tr>\n",
       "      <td>split7_test_score</td>\n",
       "      <td>0.522191</td>\n",
       "      <td>0.539188</td>\n",
       "      <td>0.527856</td>\n",
       "    </tr>\n",
       "    <tr>\n",
       "      <td>split8_test_score</td>\n",
       "      <td>0.523629</td>\n",
       "      <td>0.519849</td>\n",
       "      <td>0.517958</td>\n",
       "    </tr>\n",
       "    <tr>\n",
       "      <td>split9_test_score</td>\n",
       "      <td>0.548204</td>\n",
       "      <td>0.533081</td>\n",
       "      <td>0.55104</td>\n",
       "    </tr>\n",
       "    <tr>\n",
       "      <td>mean_test_score</td>\n",
       "      <td>0.547693</td>\n",
       "      <td>0.551184</td>\n",
       "      <td>0.548637</td>\n",
       "    </tr>\n",
       "    <tr>\n",
       "      <td>std_test_score</td>\n",
       "      <td>0.0259261</td>\n",
       "      <td>0.0240338</td>\n",
       "      <td>0.0291204</td>\n",
       "    </tr>\n",
       "    <tr>\n",
       "      <td>rank_test_score</td>\n",
       "      <td>125</td>\n",
       "      <td>30</td>\n",
       "      <td>97</td>\n",
       "    </tr>\n",
       "  </tbody>\n",
       "</table>\n",
       "</div>"
      ],
      "text/plain": [
       "                                                                         0  \\\n",
       "mean_fit_time                                                      1.00401   \n",
       "std_fit_time                                                     0.0102907   \n",
       "mean_score_time                                                  0.0288069   \n",
       "std_score_time                                                  0.00744203   \n",
       "param_criterion                                                       gini   \n",
       "param_max_depth                                                         49   \n",
       "param_min_samples_leaf                                                 118   \n",
       "param_min_samples_split                                                 77   \n",
       "param_n_estimators                                                     113   \n",
       "params                   {'criterion': 'gini', 'max_depth': 49, 'min_sa...   \n",
       "split0_test_score                                                 0.570217   \n",
       "split1_test_score                                                 0.568332   \n",
       "split2_test_score                                                 0.557022   \n",
       "split3_test_score                                                 0.513666   \n",
       "split4_test_score                                                 0.513666   \n",
       "split5_test_score                                                 0.585849   \n",
       "split6_test_score                                                 0.574127   \n",
       "split7_test_score                                                 0.522191   \n",
       "split8_test_score                                                 0.523629   \n",
       "split9_test_score                                                 0.548204   \n",
       "mean_test_score                                                   0.547693   \n",
       "std_test_score                                                   0.0259261   \n",
       "rank_test_score                                                        125   \n",
       "\n",
       "                                                                         1  \\\n",
       "mean_fit_time                                                     0.822128   \n",
       "std_fit_time                                                    0.00773165   \n",
       "mean_score_time                                                  0.0197049   \n",
       "std_score_time                                                 0.000781238   \n",
       "param_criterion                                                    entropy   \n",
       "param_max_depth                                                         21   \n",
       "param_min_samples_leaf                                                 278   \n",
       "param_min_samples_split                                                 46   \n",
       "param_n_estimators                                                      97   \n",
       "params                   {'criterion': 'entropy', 'max_depth': 21, 'min...   \n",
       "split0_test_score                                                 0.570217   \n",
       "split1_test_score                                                 0.558907   \n",
       "split2_test_score                                                 0.569274   \n",
       "split3_test_score                                                 0.521206   \n",
       "split4_test_score                                                 0.530631   \n",
       "split5_test_score                                                 0.583019   \n",
       "split6_test_score                                                 0.586402   \n",
       "split7_test_score                                                 0.539188   \n",
       "split8_test_score                                                 0.519849   \n",
       "split9_test_score                                                 0.533081   \n",
       "mean_test_score                                                   0.551184   \n",
       "std_test_score                                                   0.0240338   \n",
       "rank_test_score                                                         30   \n",
       "\n",
       "                                                                         2  \n",
       "mean_fit_time                                                      0.46325  \n",
       "std_fit_time                                                    0.00878154  \n",
       "mean_score_time                                                  0.0143112  \n",
       "std_score_time                                                  0.00313257  \n",
       "param_criterion                                                       gini  \n",
       "param_max_depth                                                         26  \n",
       "param_min_samples_leaf                                                  89  \n",
       "param_min_samples_split                                                 68  \n",
       "param_n_estimators                                                      49  \n",
       "params                   {'criterion': 'gini', 'max_depth': 26, 'min_sa...  \n",
       "split0_test_score                                                 0.558907  \n",
       "split1_test_score                                                 0.588124  \n",
       "split2_test_score                                                 0.563619  \n",
       "split3_test_score                                                 0.497644  \n",
       "split4_test_score                                                 0.522149  \n",
       "split5_test_score                                                 0.579245  \n",
       "split6_test_score                                                 0.579792  \n",
       "split7_test_score                                                 0.527856  \n",
       "split8_test_score                                                 0.517958  \n",
       "split9_test_score                                                  0.55104  \n",
       "mean_test_score                                                   0.548637  \n",
       "std_test_score                                                   0.0291204  \n",
       "rank_test_score                                                         97  "
      ]
     },
     "execution_count": 152,
     "metadata": {},
     "output_type": "execute_result"
    }
   ],
   "source": [
    "param_df.head(3).T"
   ]
  },
  {
   "cell_type": "code",
   "execution_count": 153,
   "metadata": {},
   "outputs": [],
   "source": [
    "param_df = param_df[['mean_test_score'] + [x for x in param_df.columns if x.startswith('param_')]]"
   ]
  },
  {
   "cell_type": "code",
   "execution_count": 154,
   "metadata": {},
   "outputs": [
    {
     "data": {
      "text/plain": [
       "<matplotlib.axes._subplots.AxesSubplot at 0x23ddc5add68>"
      ]
     },
     "execution_count": 154,
     "metadata": {},
     "output_type": "execute_result"
    },
    {
     "data": {
      "image/png": "[encoded data removed]",
      "text/plain": [
       "<Figure size 1080x1080 with 6 Axes>"
      ]
     },
     "metadata": {},
     "output_type": "display_data"
    }
   ],
   "source": [
    "f, axes = plt.subplots(3, 2, figsize=(15, 15))\n",
    "\n",
    "sns.regplot(x='param_min_samples_split',\n",
    "             y='mean_test_score',\n",
    "             #hue='param_max_depth',\n",
    "             #palette=sns.color_palette('hls', param_df['param_max_depth'].nunique()),\n",
    "             data=param_df,\n",
    "             ax=axes[0, 0])\n",
    "\n",
    "sns.regplot(x='param_max_depth',\n",
    "             y='mean_test_score',\n",
    "             data=param_df,\n",
    "             ax=axes[0, 1])\n",
    "\n",
    "sns.scatterplot(x='param_criterion',\n",
    "                y='mean_test_score',\n",
    "                data=param_df,\n",
    "                ax=axes[1, 0])\n",
    "\n",
    "sns.regplot(x='param_min_samples_leaf',\n",
    "             y='mean_test_score',\n",
    "             data=param_df,\n",
    "             ax=axes[1, 1])\n",
    "sns.regplot(x='param_n_estimators',\n",
    "             y='mean_test_score',\n",
    "             data=param_df,\n",
    "             ax=axes[2, 0])"
   ]
  },
  {
   "cell_type": "code",
   "execution_count": 113,
   "metadata": {},
   "outputs": [],
   "source": [
    "#best_rfc.score(train_df.drop('player_result', axis=1), train_df['player_result'])"
   ]
  },
  {
   "cell_type": "code",
   "execution_count": null,
   "metadata": {},
   "outputs": [],
   "source": []
  }
 ],
 "metadata": {
  "kernelspec": {
   "display_name": "Python 3",
   "language": "python",
   "name": "python3"
  },
  "language_info": {
   "codemirror_mode": {
    "name": "ipython",
    "version": 3
   },
   "file_extension": ".py",
   "mimetype": "text/x-python",
   "name": "python",
   "nbconvert_exporter": "python",
   "pygments_lexer": "ipython3",
   "version": "3.7.0"
  }
 },
 "nbformat": 4,
 "nbformat_minor": 2
}
